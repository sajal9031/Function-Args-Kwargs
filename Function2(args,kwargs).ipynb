{
 "cells": [
  {
   "cell_type": "code",
   "execution_count": 4,
   "id": "6cf4bace-6913-4b23-a60a-8706546a65c8",
   "metadata": {},
   "outputs": [],
   "source": [
    "def test(a,b,c,d):\n",
    "    pass"
   ]
  },
  {
   "cell_type": "code",
   "execution_count": 5,
   "id": "b1b0de90-bf13-4693-b159-d9b0cee25c55",
   "metadata": {},
   "outputs": [],
   "source": [
    "test(1,3,4,5)"
   ]
  },
  {
   "cell_type": "code",
   "execution_count": 6,
   "id": "f47b5d17-574c-473b-a10d-98039f93bb5e",
   "metadata": {},
   "outputs": [
    {
     "ename": "TypeError",
     "evalue": "test() takes 4 positional arguments but 6 were given",
     "output_type": "error",
     "traceback": [
      "\u001b[0;31m---------------------------------------------------------------------------\u001b[0m",
      "\u001b[0;31mTypeError\u001b[0m                                 Traceback (most recent call last)",
      "Cell \u001b[0;32mIn[6], line 1\u001b[0m\n\u001b[0;32m----> 1\u001b[0m \u001b[43mtest\u001b[49m\u001b[43m(\u001b[49m\u001b[38;5;241;43m1\u001b[39;49m\u001b[43m,\u001b[49m\u001b[38;5;241;43m4\u001b[39;49m\u001b[43m,\u001b[49m\u001b[38;5;241;43m6\u001b[39;49m\u001b[43m,\u001b[49m\u001b[38;5;241;43m7\u001b[39;49m\u001b[43m,\u001b[49m\u001b[38;5;241;43m8\u001b[39;49m\u001b[43m,\u001b[49m\u001b[38;5;241;43m9\u001b[39;49m\u001b[43m)\u001b[49m\n",
      "\u001b[0;31mTypeError\u001b[0m: test() takes 4 positional arguments but 6 were given"
     ]
    }
   ],
   "source": [
    "test(1,4,6,7,8,9)"
   ]
  },
  {
   "cell_type": "code",
   "execution_count": 11,
   "id": "6db8becc-84d4-496a-a6cb-e1fe412d658b",
   "metadata": {},
   "outputs": [
    {
     "data": {
      "text/plain": [
       "(1, 2, 6, 8, 9)"
      ]
     },
     "execution_count": 11,
     "metadata": {},
     "output_type": "execute_result"
    }
   ],
   "source": []
  },
  {
   "cell_type": "markdown",
   "id": "bd4eb51b-8f63-4192-9be1-930b79f81b3d",
   "metadata": {},
   "source": [
    "*args allows us to pass a variable number of non-keyword arguments to a Python function.\n",
    "In the function, we should use an asterisk ( * ) before the parameter name to pass a variable number of arguments."
   ]
  },
  {
   "cell_type": "code",
   "execution_count": 7,
   "id": "19f479b3-fabd-41a2-9121-9788d5ac6287",
   "metadata": {},
   "outputs": [],
   "source": [
    "def test1(*args):\n",
    "    return args"
   ]
  },
  {
   "cell_type": "code",
   "execution_count": 13,
   "id": "b730cbd7-1c63-4c30-be19-b5c9e58baac3",
   "metadata": {},
   "outputs": [
    {
     "data": {
      "text/plain": [
       "(1, 2, 6, 8, 9, 5, 6)"
      ]
     },
     "execution_count": 13,
     "metadata": {},
     "output_type": "execute_result"
    }
   ],
   "source": [
    "test1(1,2,6,8,9,5,6)"
   ]
  },
  {
   "cell_type": "code",
   "execution_count": 18,
   "id": "5fd7b42e-7e74-461b-b731-967bce244dd8",
   "metadata": {},
   "outputs": [
    {
     "data": {
      "text/plain": [
       "(1, 2, 4, 3, 'sajal', [1, 4, 5, 6], (1, 3, 5, 6), {3, 5, 7})"
      ]
     },
     "execution_count": 18,
     "metadata": {},
     "output_type": "execute_result"
    }
   ],
   "source": [
    "test1(1,2,4,3,\"sajal\",[1,4,5,6],(1,3,5,6),{3,5,7})"
   ]
  },
  {
   "cell_type": "code",
   "execution_count": 19,
   "id": "5cbf3837-c1a2-435b-a583-217a81ebc0a4",
   "metadata": {},
   "outputs": [],
   "source": [
    "def test2(*sajal):\n",
    "    return sajal"
   ]
  },
  {
   "cell_type": "code",
   "execution_count": 20,
   "id": "ab200343-9f52-44ca-bf33-552327108577",
   "metadata": {},
   "outputs": [
    {
     "data": {
      "text/plain": [
       "(1, 2, 4, 5)"
      ]
     },
     "execution_count": 20,
     "metadata": {},
     "output_type": "execute_result"
    }
   ],
   "source": [
    "test2(1,2,4,5)"
   ]
  },
  {
   "cell_type": "code",
   "execution_count": 25,
   "id": "45a40739-3426-4710-a2d0-d4620b152641",
   "metadata": {},
   "outputs": [],
   "source": [
    "def test3(*sajal,a):\n",
    "    return (sajal,a)"
   ]
  },
  {
   "cell_type": "code",
   "execution_count": 28,
   "id": "cce894e0-11cc-4f33-a377-a856e63d4d2e",
   "metadata": {},
   "outputs": [
    {
     "data": {
      "text/plain": [
       "((1, 3, 4), 'saj')"
      ]
     },
     "execution_count": 28,
     "metadata": {},
     "output_type": "execute_result"
    }
   ],
   "source": [
    "test3(1,3,4, a=\"saj\")"
   ]
  },
  {
   "cell_type": "code",
   "execution_count": 31,
   "id": "e9f5dfcc-9473-472f-98f9-dc44b8c2f0a0",
   "metadata": {},
   "outputs": [],
   "source": [
    "def test4(*args):\n",
    "    l=[]\n",
    "    for i in args:\n",
    "        if type(i)  ==list:\n",
    "            l.append(i)\n",
    "    return l\n",
    "        \n",
    "    "
   ]
  },
  {
   "cell_type": "code",
   "execution_count": 32,
   "id": "a0e4fe84-6db7-4339-b5c7-f67e8a294531",
   "metadata": {},
   "outputs": [
    {
     "data": {
      "text/plain": [
       "[[3, 5, 6, 7], [45, 65, 76], [23, 43, 54]]"
      ]
     },
     "execution_count": 32,
     "metadata": {},
     "output_type": "execute_result"
    }
   ],
   "source": [
    "test4(12,34,56,[3,5,6,7],\"sajal\",[45,65,76],[23,43,54])"
   ]
  },
  {
   "cell_type": "markdown",
   "id": "c2df69c4-982e-40dc-985f-2daef03c930c",
   "metadata": {},
   "source": [
    "Kwargs\n",
    "The special syntax **kwargs in function definitions in python is used to pass a keyworded, variable-length argument list."
   ]
  },
  {
   "cell_type": "code",
   "execution_count": 33,
   "id": "cea09e42-2e8f-4900-be6a-168e21d37f86",
   "metadata": {},
   "outputs": [],
   "source": [
    "def test5(**kwargs):\n",
    "    return kwargs"
   ]
  },
  {
   "cell_type": "code",
   "execution_count": 34,
   "id": "a94764d5-ae1f-4fa8-8c63-63758b93383e",
   "metadata": {},
   "outputs": [
    {
     "data": {
      "text/plain": [
       "{}"
      ]
     },
     "execution_count": 34,
     "metadata": {},
     "output_type": "execute_result"
    }
   ],
   "source": [
    "test5()"
   ]
  },
  {
   "cell_type": "code",
   "execution_count": 35,
   "id": "c47c9093-91e7-4216-906f-21887bda2017",
   "metadata": {},
   "outputs": [
    {
     "data": {
      "text/plain": [
       "{'a': [1, 3, 4, 5], 'b': ['sajal'], 'c': 12}"
      ]
     },
     "execution_count": 35,
     "metadata": {},
     "output_type": "execute_result"
    }
   ],
   "source": [
    "test5(a=[1,3,4,5],b=[\"sajal\"],c=12)"
   ]
  },
  {
   "cell_type": "code",
   "execution_count": 36,
   "id": "1186544d-1e44-4b01-b886-aae39c462978",
   "metadata": {},
   "outputs": [],
   "source": [
    "def test6(**kwargs):\n",
    "    for i in kwargs.keys():\n",
    "        if type(kwargs[i]) == list:\n",
    "            return i,kwargs[i]"
   ]
  },
  {
   "cell_type": "code",
   "execution_count": 38,
   "id": "5b822181-e35c-4178-86c6-8c391dcbae82",
   "metadata": {},
   "outputs": [
    {
     "data": {
      "text/plain": [
       "('a', [1, 3, 4, 5])"
      ]
     },
     "execution_count": 38,
     "metadata": {},
     "output_type": "execute_result"
    }
   ],
   "source": [
    "test6(a=[1,3,4,5],b=[\"sajal\"],c=12)"
   ]
  },
  {
   "cell_type": "code",
   "execution_count": 39,
   "id": "76b17bea-e984-4199-b80d-cb35afa6b7c8",
   "metadata": {},
   "outputs": [],
   "source": [
    "def test7(*args,**kwargs):\n",
    "    return args, kwargs"
   ]
  },
  {
   "cell_type": "code",
   "execution_count": 40,
   "id": "07ab680c-4184-4df1-9cf1-4b317ff9240c",
   "metadata": {},
   "outputs": [
    {
     "data": {
      "text/plain": [
       "((23, 45, 67), {'a': 44, 'b': 44})"
      ]
     },
     "execution_count": 40,
     "metadata": {},
     "output_type": "execute_result"
    }
   ],
   "source": [
    "test7(23,45,67, a= 44, b=44)"
   ]
  },
  {
   "cell_type": "code",
   "execution_count": null,
   "id": "1ddd56ec-b428-4020-b8e7-0e68c5dfaf07",
   "metadata": {},
   "outputs": [],
   "source": []
  }
 ],
 "metadata": {
  "kernelspec": {
   "display_name": "Python 3 (ipykernel)",
   "language": "python",
   "name": "python3"
  },
  "language_info": {
   "codemirror_mode": {
    "name": "ipython",
    "version": 3
   },
   "file_extension": ".py",
   "mimetype": "text/x-python",
   "name": "python",
   "nbconvert_exporter": "python",
   "pygments_lexer": "ipython3",
   "version": "3.10.8"
  }
 },
 "nbformat": 4,
 "nbformat_minor": 5
}
